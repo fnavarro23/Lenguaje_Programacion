{
  "cells": [
    {
      "cell_type": "code",
      "source": [
        "!apt-get update\n",
        "!apt-get install ruby -y"
      ],
      "metadata": {
        "colab": {
          "base_uri": "https://localhost:8080/"
        },
        "id": "HexICah8Gm8z",
        "outputId": "ce937ce6-6b83-4259-a702-d9985053d514"
      },
      "id": "HexICah8Gm8z",
      "execution_count": 34,
      "outputs": [
        {
          "output_type": "stream",
          "name": "stdout",
          "text": [
            "\r0% [Working]\r            \rHit:1 http://archive.ubuntu.com/ubuntu jammy InRelease\n",
            "\r0% [Waiting for headers] [Connecting to security.ubuntu.com (185.125.190.82)] [\r                                                                               \rHit:2 http://archive.ubuntu.com/ubuntu jammy-updates InRelease\n",
            "\r0% [Waiting for headers] [Connecting to security.ubuntu.com (185.125.190.82)] [\r                                                                               \rHit:3 https://cli.github.com/packages stable InRelease\n",
            "\r0% [Waiting for headers] [Connecting to security.ubuntu.com (185.125.190.82)] [\r                                                                               \rHit:4 http://archive.ubuntu.com/ubuntu jammy-backports InRelease\n",
            "\r0% [Waiting for headers] [Connected to cloud.r-project.org (108.157.173.89)] [C\r                                                                               \rHit:5 https://cloud.r-project.org/bin/linux/ubuntu jammy-cran40/ InRelease\n",
            "Hit:6 https://developer.download.nvidia.com/compute/cuda/repos/ubuntu2204/x86_64  InRelease\n",
            "Hit:7 http://security.ubuntu.com/ubuntu jammy-security InRelease\n",
            "Hit:8 https://r2u.stat.illinois.edu/ubuntu jammy InRelease\n",
            "Hit:9 https://ppa.launchpadcontent.net/deadsnakes/ppa/ubuntu jammy InRelease\n",
            "Hit:10 https://ppa.launchpadcontent.net/graphics-drivers/ppa/ubuntu jammy InRelease\n",
            "Hit:11 https://ppa.launchpadcontent.net/ubuntugis/ppa/ubuntu jammy InRelease\n",
            "Reading package lists... Done\n",
            "W: Skipping acquire of configured file 'main/source/Sources' as repository 'https://r2u.stat.illinois.edu/ubuntu jammy InRelease' does not seem to provide it (sources.list entry misspelt?)\n",
            "Reading package lists... Done\n",
            "Building dependency tree... Done\n",
            "Reading state information... Done\n",
            "ruby is already the newest version (1:3.0~exp1).\n",
            "0 upgraded, 0 newly installed, 0 to remove and 38 not upgraded.\n"
          ]
        }
      ]
    },
    {
      "cell_type": "markdown",
      "id": "a1b2c3d4",
      "metadata": {
        "id": "a1b2c3d4"
      },
      "source": [
        "# DOCUMENTACION DE RUBY"
      ]
    },
    {
      "cell_type": "markdown",
      "id": "b2c3d4e5",
      "metadata": {
        "id": "b2c3d4e5"
      },
      "source": [
        "Ruby es un lenguaje de programación interpretado y dinámico, conocido por su enfoque en la simplicidad y la productividad.\n"
      ]
    },
    {
      "cell_type": "markdown",
      "id": "d4e5f6a7",
      "metadata": {
        "id": "d4e5f6a7"
      },
      "source": [
        "## 1. Mostrar en Consola y Comentarios"
      ]
    },
    {
      "cell_type": "markdown",
      "id": "e5f6a7b8",
      "metadata": {
        "id": "e5f6a7b8"
      },
      "source": [
        "puts (put string) se usa para imprimir un valor en la consola, añadiendo automáticamente un salto de línea al final."
      ]
    },
    {
      "cell_type": "code",
      "execution_count": 35,
      "id": "f6a7b8c9",
      "metadata": {
        "vscode": {
          "languageId": "powershell"
        },
        "colab": {
          "base_uri": "https://localhost:8080/"
        },
        "id": "f6a7b8c9",
        "outputId": "0d5cf9f9-5708-4d73-9d58-ae0d792e5718"
      },
      "outputs": [
        {
          "output_type": "stream",
          "name": "stdout",
          "text": [
            "Bienvenido al mundo de Ruby!\n"
          ]
        }
      ],
      "source": [
        "%%script ruby\n",
        "puts \"Bienvenido al mundo de Ruby!\""
      ]
    },
    {
      "cell_type": "markdown",
      "id": "a7b8c9d0",
      "metadata": {
        "id": "a7b8c9d0"
      },
      "source": [
        "print es similar, pero imprime el valor exacto sin añadir un salto de línea."
      ]
    },
    {
      "cell_type": "code",
      "execution_count": 36,
      "id": "b8c9d0e1",
      "metadata": {
        "vscode": {
          "languageId": "powershell"
        },
        "colab": {
          "base_uri": "https://localhost:8080/"
        },
        "id": "b8c9d0e1",
        "outputId": "7c51f62d-de83-45e6-e02e-ab8dfb75afa7"
      },
      "outputs": [
        {
          "output_type": "stream",
          "name": "stdout",
          "text": [
            "Esto es una sola línea."
          ]
        }
      ],
      "source": [
        "%%script ruby\n",
        "print \"Esto es \"\n",
        "print \"una sola línea.\""
      ]
    },
    {
      "cell_type": "code",
      "execution_count": 37,
      "id": "c9d0e1f2",
      "metadata": {
        "vscode": {
          "languageId": "powershell"
        },
        "colab": {
          "base_uri": "https://localhost:8080/"
        },
        "id": "c9d0e1f2",
        "outputId": "74e42bf5-3f53-4691-96c9-5a724550804a"
      },
      "outputs": [
        {
          "output_type": "stream",
          "name": "stdout",
          "text": [
            "Los comentarios no se ejecutan.\n"
          ]
        }
      ],
      "source": [
        "%%script ruby\n",
        "# Este es un comentario de una sola línea (el más usado).\n",
        "puts \"Los comentarios no se ejecutan.\"\n",
        "\n",
        "=begin\n",
        "Esto es un comentario\n",
        "que abarca varias líneas.\n",
        "No es tan común como el '#',\n",
        "pero es útil para bloques largos.\n",
        "=end"
      ]
    },
    {
      "cell_type": "markdown",
      "id": "d0e1f2a3",
      "metadata": {
        "id": "d0e1f2a3"
      },
      "source": [
        "## 2. Variables y Tipos de Datos Principales"
      ]
    },
    {
      "cell_type": "markdown",
      "id": "e1f2a3b4",
      "metadata": {
        "id": "e1f2a3b4"
      },
      "source": [
        "Ruby utiliza tipado dinámico. Esto significa que no necesitas declarar el tipo de una variable; simplemente le asignas un valor y Ruby infiere el tipo."
      ]
    },
    {
      "cell_type": "code",
      "execution_count": 38,
      "id": "f2a3b4c5",
      "metadata": {
        "vscode": {
          "languageId": "powershell"
        },
        "colab": {
          "base_uri": "https://localhost:8080/"
        },
        "id": "f2a3b4c5",
        "outputId": "4a669261-55a5-43c7-cf53-cd303b187cb0"
      },
      "outputs": [
        {
          "output_type": "stream",
          "name": "stdout",
          "text": [
            "Esto es una variable\n",
            "Puedo cambiar mi valor fácilmente\n"
          ]
        }
      ],
      "source": [
        "%%script ruby\n",
        "una_cadena = \"Esto es una variable\"\n",
        "puts una_cadena\n",
        "\n",
        "una_cadena = \"Puedo cambiar mi valor fácilmente\"\n",
        "puts una_cadena"
      ]
    },
    {
      "cell_type": "markdown",
      "id": "a3b4c5d6",
      "metadata": {
        "id": "a3b4c5d6"
      },
      "source": [
        "Dado que todo es un objeto, puedes usar el método .class en cualquier variable para descubrir su tipo (o clase)."
      ]
    },
    {
      "cell_type": "code",
      "execution_count": 39,
      "id": "b4c5d6e7",
      "metadata": {
        "vscode": {
          "languageId": "powershell"
        },
        "colab": {
          "base_uri": "https://localhost:8080/"
        },
        "id": "b4c5d6e7",
        "outputId": "0e2453fa-b617-40dd-da2d-cdaddc99dbd3"
      },
      "outputs": [
        {
          "output_type": "stream",
          "name": "stdout",
          "text": [
            "String\n"
          ]
        }
      ],
      "source": [
        "%%script ruby\n",
        "una_cadena = \"Puedo cambiar mi valor fácilmente\"\n",
        "puts una_cadena.class # Imprime: String"
      ]
    },
    {
      "cell_type": "markdown",
      "id": "c5d6e7f8",
      "metadata": {
        "id": "c5d6e7f8"
      },
      "source": [
        "##### Integer (Números Enteros)"
      ]
    },
    {
      "cell_type": "code",
      "execution_count": 40,
      "id": "d6e7f8a9",
      "metadata": {
        "vscode": {
          "languageId": "powershell"
        },
        "colab": {
          "base_uri": "https://localhost:8080/"
        },
        "id": "d6e7f8a9",
        "outputId": "1cc982b2-625b-4ede-894b-a9ca17938de8"
      },
      "outputs": [
        {
          "output_type": "stream",
          "name": "stdout",
          "text": [
            "31\n",
            "62\n",
            "31\n",
            "Integer\n"
          ]
        }
      ],
      "source": [
        "%%script ruby\n",
        "edad = 30\n",
        "edad = edad + 1\n",
        "puts edad\n",
        "puts edad * 2\n",
        "puts edad\n",
        "puts edad.class"
      ]
    },
    {
      "cell_type": "markdown",
      "id": "e7f8a9b0",
      "metadata": {
        "id": "e7f8a9b0"
      },
      "source": [
        "##### Float (Números Decimales)"
      ]
    },
    {
      "cell_type": "code",
      "execution_count": 41,
      "id": "f8a9b0c1",
      "metadata": {
        "vscode": {
          "languageId": "powershell"
        },
        "colab": {
          "base_uri": "https://localhost:8080/"
        },
        "id": "f8a9b0c1",
        "outputId": "76cef796-9192-461e-cda7-427933b37c32"
      },
      "outputs": [
        {
          "output_type": "stream",
          "name": "stdout",
          "text": [
            "19.99\n",
            "Float\n"
          ]
        }
      ],
      "source": [
        "%%script ruby\n",
        "precio = 19.99\n",
        "puts precio\n",
        "puts precio.class"
      ]
    },
    {
      "cell_type": "markdown",
      "id": "a9b0c1d2",
      "metadata": {
        "id": "a9b0c1d2"
      },
      "source": [
        "Al ser objetos, los números también tienen métodos. Los métodos que terminan en ? suelen devolver un booleano."
      ]
    },
    {
      "cell_type": "code",
      "execution_count": 42,
      "id": "b0c1d2e3",
      "metadata": {
        "vscode": {
          "languageId": "powershell"
        },
        "colab": {
          "base_uri": "https://localhost:8080/"
        },
        "id": "b0c1d2e3",
        "outputId": "10215912-f7b5-4000-e359-41fc7c96e6e4"
      },
      "outputs": [
        {
          "output_type": "stream",
          "name": "stdout",
          "text": [
            "true\n"
          ]
        }
      ],
      "source": [
        "%%script ruby\n",
        "puts 5.odd? # Imprime: true (¿es impar?)"
      ]
    },
    {
      "cell_type": "markdown",
      "id": "c1d2e3f4",
      "metadata": {
        "id": "c1d2e3f4"
      },
      "source": [
        "##### Booleanos (Verdadero/Falso)"
      ]
    },
    {
      "cell_type": "code",
      "execution_count": 43,
      "id": "d2e3f4a5",
      "metadata": {
        "vscode": {
          "languageId": "powershell"
        },
        "colab": {
          "base_uri": "https://localhost:8080/"
        },
        "id": "d2e3f4a5",
        "outputId": "3e7edfed-49b4-4b0a-f942-fb6a56c639ab"
      },
      "outputs": [
        {
          "output_type": "stream",
          "name": "stdout",
          "text": [
            "true\n",
            "TrueClass\n",
            "FalseClass\n"
          ]
        }
      ],
      "source": [
        "%%script ruby\n",
        "es_activo = true\n",
        "esta_lloviendo = false\n",
        "puts es_activo\n",
        "puts es_activo.class\n",
        "puts esta_lloviendo.class"
      ]
    },
    {
      "cell_type": "markdown",
      "id": "e3f4a5b6",
      "metadata": {
        "id": "e3f4a5b6"
      },
      "source": [
        "##### Nil (Ausencia de Valor)"
      ]
    },
    {
      "cell_type": "markdown",
      "id": "f4a5b6c7",
      "metadata": {
        "id": "f4a5b6c7"
      },
      "source": [
        "nil es el equivalente de Ruby a null o None. Representa \"nada\" y también es un objeto."
      ]
    },
    {
      "cell_type": "code",
      "execution_count": 44,
      "id": "a5b6c7d8",
      "metadata": {
        "vscode": {
          "languageId": "powershell"
        },
        "colab": {
          "base_uri": "https://localhost:8080/"
        },
        "id": "a5b6c7d8",
        "outputId": "acfd1c31-40bb-4b3d-f96c-fea2bf485f95"
      },
      "outputs": [
        {
          "output_type": "stream",
          "name": "stdout",
          "text": [
            "\n",
            "NilClass\n"
          ]
        }
      ],
      "source": [
        "%%script ruby\n",
        "sin_valor = nil\n",
        "puts sin_valor       # No imprime nada, solo el salto de línea de puts\n",
        "puts sin_valor.class # Imprime: NilClass"
      ]
    },
    {
      "cell_type": "markdown",
      "id": "b6c7d8e9",
      "metadata": {
        "id": "b6c7d8e9"
      },
      "source": [
        "##### Interpolación de Cadenas"
      ]
    },
    {
      "cell_type": "markdown",
      "id": "c7d8e9f0",
      "metadata": {
        "id": "c7d8e9f0"
      },
      "source": [
        "Para insertar el valor de una variable dentro de una cadena, debes usar comillas dobles (\"\") y la sintaxis #{...}."
      ]
    },
    {
      "cell_type": "code",
      "execution_count": 45,
      "id": "d8e9f0a1",
      "metadata": {
        "vscode": {
          "languageId": "powershell"
        },
        "colab": {
          "base_uri": "https://localhost:8080/"
        },
        "id": "d8e9f0a1",
        "outputId": "5db8975a-8afb-424f-9b00-fa113cef5a1c"
      },
      "outputs": [
        {
          "output_type": "stream",
          "name": "stdout",
          "text": [
            "31\n",
            "62\n",
            "31\n",
            "Integer\n",
            "true\n",
            "TrueClass\n",
            "FalseClass\n",
            "La edad del usuario es 31 y su estado es true.\n",
            "El próximo año, la edad será 32.\n"
          ]
        }
      ],
      "source": [
        "%%script ruby\n",
        "edad = 30\n",
        "edad = edad + 1\n",
        "puts edad\n",
        "puts edad * 2\n",
        "puts edad\n",
        "puts edad.class\n",
        "\n",
        "es_activo = true\n",
        "esta_lloviendo = false\n",
        "puts es_activo\n",
        "puts es_activo.class\n",
        "puts esta_lloviendo.class\n",
        "\n",
        "puts \"La edad del usuario es #{edad} y su estado es #{es_activo}.\"\n",
        "puts \"El próximo año, la edad será #{edad + 1}.\" # Se puede ejecutar código dentro"
      ]
    },
    {
      "cell_type": "markdown",
      "id": "e9f0a1b2",
      "metadata": {
        "id": "e9f0a1b2"
      },
      "source": [
        "## 3. Constantes"
      ]
    },
    {
      "cell_type": "markdown",
      "id": "f0a1b2c3",
      "metadata": {
        "id": "f0a1b2c3"
      },
      "source": [
        "Las constantes se definen comenzando con una letra mayúscula. Por convención, se usa SNAKE_CASE en mayúsculas."
      ]
    },
    {
      "cell_type": "code",
      "execution_count": 46,
      "id": "a1b2c3d4e",
      "metadata": {
        "vscode": {
          "languageId": "powershell"
        },
        "colab": {
          "base_uri": "https://localhost:8080/"
        },
        "id": "a1b2c3d4e",
        "outputId": "02e3ce28-2862-4a86-fa03-50e314442802"
      },
      "outputs": [
        {
          "output_type": "stream",
          "name": "stdout",
          "text": [
            "3.1415\n",
            "9.8\n"
          ]
        }
      ],
      "source": [
        "%%script ruby\n",
        "PI = 3.1415\n",
        "puts PI\n",
        "GRAVEDAD = 9.8\n",
        "puts GRAVEDAD"
      ]
    },
    {
      "cell_type": "markdown",
      "id": "b2c3d4e5f",
      "metadata": {
        "id": "b2c3d4e5f"
      },
      "source": [
        "Aunque Ruby permite reasignar una constante, generará una advertencia. (Ej: PI = 3.14 mostraría un aviso)."
      ]
    },
    {
      "cell_type": "markdown",
      "id": "c3d4e5f6a",
      "metadata": {
        "id": "c3d4e5f6a"
      },
      "source": [
        "## 4. Colecciones (Estructuras de Datos)"
      ]
    },
    {
      "cell_type": "markdown",
      "id": "d4e5f6a7b",
      "metadata": {
        "id": "d4e5f6a7b"
      },
      "source": [
        "##### Array (Listas)"
      ]
    },
    {
      "cell_type": "markdown",
      "id": "e5f6a7b8c",
      "metadata": {
        "id": "e5f6a7b8c"
      },
      "source": [
        "Los Arrays en Ruby son colecciones ordenadas. Pueden cambiar de tamaño (son dinámicos) y contener diferentes tipos de datos."
      ]
    },
    {
      "cell_type": "code",
      "execution_count": 47,
      "id": "f6a7b8c9d",
      "metadata": {
        "vscode": {
          "languageId": "powershell"
        },
        "colab": {
          "base_uri": "https://localhost:8080/"
        },
        "id": "f6a7b8c9d",
        "outputId": "fa3556ae-9885-4361-f8a8-393a1bf29866"
      },
      "outputs": [
        {
          "output_type": "stream",
          "name": "stdout",
          "text": [
            "Manzana\n",
            "true\n"
          ]
        }
      ],
      "source": [
        "%%script ruby\n",
        "mi_lista = [\"Manzana\", 100, true, 45.5]\n",
        "puts mi_lista[0] # Imprime: Manzana (acceso por índice base 0)\n",
        "puts mi_lista[2] # Imprime: true"
      ]
    },
    {
      "cell_type": "markdown",
      "id": "a7b8c9d0e",
      "metadata": {
        "id": "a7b8c9d0e"
      },
      "source": [
        "Puedes añadir elementos al final de un Array usando el método push o el operador << (pala)."
      ]
    },
    {
      "cell_type": "code",
      "execution_count": 48,
      "id": "b8c9d0e1f",
      "metadata": {
        "vscode": {
          "languageId": "powershell"
        },
        "colab": {
          "base_uri": "https://localhost:8080/"
        },
        "id": "b8c9d0e1f",
        "outputId": "121e4920-ccf5-40a8-f017-4940b6dbf35e"
      },
      "outputs": [
        {
          "output_type": "stream",
          "name": "stdout",
          "text": [
            "Manzana\n",
            "true\n"
          ]
        }
      ],
      "source": [
        "%%script ruby\n",
        "mi_lista = [\"Manzana\", 100, true, 45.5]\n",
        "puts mi_lista[0] # Imprime: Manzana (acceso por índice base 0)\n",
        "puts mi_lista[2] # Imprime: true\n",
        "\n",
        "mi_lista.push(\"Nuevo elemento\")\n",
        "mi_lista << \"Otro más\""
      ]
    },
    {
      "cell_type": "markdown",
      "id": "c9d0e1f2a",
      "metadata": {
        "id": "c9d0e1f2a"
      },
      "source": [
        "Para ver una representación clara del contenido del array (para depuración), usa .inspect."
      ]
    },
    {
      "cell_type": "code",
      "execution_count": 49,
      "id": "d0e1f2a3b",
      "metadata": {
        "vscode": {
          "languageId": "powershell"
        },
        "colab": {
          "base_uri": "https://localhost:8080/"
        },
        "id": "d0e1f2a3b",
        "outputId": "2d1e94be-95cb-465a-8bfe-39f3ab53c2c1"
      },
      "outputs": [
        {
          "output_type": "stream",
          "name": "stdout",
          "text": [
            "Manzana\n",
            "true\n",
            "[\"Manzana\", 100, true, 45.5, \"Nuevo elemento\", \"Otro más\"]\n"
          ]
        }
      ],
      "source": [
        "%%script ruby\n",
        "mi_lista = [\"Manzana\", 100, true, 45.5]\n",
        "puts mi_lista[0] # Imprime: Manzana (acceso por índice base 0)\n",
        "puts mi_lista[2] # Imprime: true\n",
        "\n",
        "mi_lista.push(\"Nuevo elemento\")\n",
        "mi_lista << \"Otro más\"\n",
        "\n",
        "puts mi_lista.inspect"
      ]
    },
    {
      "cell_type": "markdown",
      "id": "e1f2a3b4c",
      "metadata": {
        "id": "e1f2a3b4c"
      },
      "source": [
        "##### Hash (Mapas o Diccionarios)"
      ]
    },
    {
      "cell_type": "markdown",
      "id": "f2a3b4c5d",
      "metadata": {
        "id": "f2a3b4c5d"
      },
      "source": [
        "Un Hash es una colección de pares clave-valor. La sintaxis moderna prefiere usar Símbolos (ej: :nombre) como claves, que son más eficientes que las cadenas."
      ]
    },
    {
      "cell_type": "code",
      "execution_count": 50,
      "id": "a3b4c5d6e",
      "metadata": {
        "vscode": {
          "languageId": "powershell"
        },
        "id": "a3b4c5d6e"
      },
      "outputs": [],
      "source": [
        "%%script ruby\n",
        "usuario = {\n",
        "  nombre: \"Fran\",\n",
        "  edad: 21,\n",
        "  es_admin: true\n",
        "}"
      ]
    },
    {
      "cell_type": "markdown",
      "id": "b4c5d6e7f",
      "metadata": {
        "id": "b4c5d6e7f"
      },
      "source": [
        "Accedes a los valores utilizando la clave (el Símbolo)."
      ]
    },
    {
      "cell_type": "code",
      "execution_count": 51,
      "id": "c5d6e7f8a",
      "metadata": {
        "vscode": {
          "languageId": "powershell"
        },
        "colab": {
          "base_uri": "https://localhost:8080/"
        },
        "id": "c5d6e7f8a",
        "outputId": "51703c8d-413c-4078-cc33-5c5192f310e2"
      },
      "outputs": [
        {
          "output_type": "stream",
          "name": "stdout",
          "text": [
            "Fran\n",
            "{:nombre=>\"Fran\", :edad=>21, :es_admin=>true, :ciudad=>\"Valencia\"}\n"
          ]
        }
      ],
      "source": [
        "%%script ruby\n",
        "usuario = {\n",
        "  nombre: \"Fran\",\n",
        "  edad: 21,\n",
        "  es_admin: true\n",
        "}\n",
        "\n",
        "puts usuario[:nombre] # Imprime: fran\n",
        "\n",
        "# Añadir un nuevo par clave-valor\n",
        "usuario[:ciudad] = \"Valencia\"\n",
        "puts usuario.inspect"
      ]
    },
    {
      "cell_type": "markdown",
      "id": "d6e7f8a9b",
      "metadata": {
        "id": "d6e7f8a9b"
      },
      "source": [
        "##### Set (Conjuntos Únicos)"
      ]
    },
    {
      "cell_type": "markdown",
      "id": "e7f8a9b0c",
      "metadata": {
        "id": "e7f8a9b0c"
      },
      "source": [
        "Un Set es una colección de elementos únicos y desordenados. Requiere importar la librería set."
      ]
    },
    {
      "cell_type": "code",
      "execution_count": 52,
      "id": "f8a9b0c1d",
      "metadata": {
        "vscode": {
          "languageId": "powershell"
        },
        "colab": {
          "base_uri": "https://localhost:8080/"
        },
        "id": "f8a9b0c1d",
        "outputId": "49d34eab-1f71-4f02-b1fd-ef51f6c15224"
      },
      "outputs": [
        {
          "output_type": "stream",
          "name": "stdout",
          "text": [
            "#<Set: {1, 2, 3, 4, 5}>\n"
          ]
        }
      ],
      "source": [
        "%%script ruby\n",
        "require 'set'\n",
        "\n",
        "numeros_repetidos = [1, 2, 3, 2, 1, 4, 5, 1]\n",
        "numeros_unicos = numeros_repetidos.to_set\n",
        "\n",
        "puts numeros_unicos.inspect # Imprime: #<Set: {1, 2, 3, 4, 5}>"
      ]
    },
    {
      "cell_type": "markdown",
      "id": "a9b0c1d2e",
      "metadata": {
        "id": "a9b0c1d2e"
      },
      "source": [
        "## 5. Estructuras de Control y Bucles"
      ]
    },
    {
      "cell_type": "markdown",
      "id": "b0c1d2e3f",
      "metadata": {
        "id": "b0c1d2e3f"
      },
      "source": [
        "##### Condicionales (if/elsif/else)"
      ]
    },
    {
      "cell_type": "markdown",
      "id": "c1d2e3f4a",
      "metadata": {
        "id": "c1d2e3f4a"
      },
      "source": [
        "En Ruby, casi todos los bloques de código (condicionales, bucles, métodos, clases) deben cerrarse con la palabra clave`end."
      ]
    },
    {
      "cell_type": "code",
      "execution_count": 53,
      "id": "d2e3f4a5b",
      "metadata": {
        "vscode": {
          "languageId": "powershell"
        },
        "colab": {
          "base_uri": "https://localhost:8080/"
        },
        "id": "d2e3f4a5b",
        "outputId": "be9bdeb4-2e2d-48fe-c487-9505d52cac48"
      },
      "outputs": [
        {
          "output_type": "stream",
          "name": "stdout",
          "text": [
            "Aprobado\n"
          ]
        }
      ],
      "source": [
        "%%script ruby\n",
        "nota = 7\n",
        "\n",
        "if nota == 10\n",
        "  puts \"Excelente\"\n",
        "elsif nota >= 7\n",
        "  puts \"Aprobado\"\n",
        "elsif nota >= 5\n",
        "  puts \"Suficiente\"\n",
        "else\n",
        "  puts \"Suspendido\"\n",
        "end"
      ]
    },
    {
      "cell_type": "markdown",
      "id": "e3f4a5b6c",
      "metadata": {
        "id": "e3f4a5b6c"
      },
      "source": [
        "##### Iteradores (La forma \"Ruby\")"
      ]
    },
    {
      "cell_type": "markdown",
      "id": "f4a5b6c7d",
      "metadata": {
        "id": "f4a5b6c7d"
      },
      "source": [
        "La forma más idiomática de recorrer colecciones en Ruby no es con un bucle for, sino con iteradores como .each."
      ]
    },
    {
      "cell_type": "markdown",
      "id": "a5b6c7d8e",
      "metadata": {
        "id": "a5b6c7d8e"
      },
      "source": [
        "Iterando sobre Arrays"
      ]
    },
    {
      "cell_type": "code",
      "execution_count": 54,
      "id": "b6c7d8e9f",
      "metadata": {
        "vscode": {
          "languageId": "powershell"
        },
        "colab": {
          "base_uri": "https://localhost:8080/"
        },
        "id": "b6c7d8e9f",
        "outputId": "d6406649-623b-49e3-f4ba-b0352807a9dc"
      },
      "outputs": [
        {
          "output_type": "stream",
          "name": "stdout",
          "text": [
            "\n",
            "Recorriendo la lista:\n",
            "Me gusta la Manzana\n",
            "Me gusta la Banana\n",
            "Me gusta la Naranja\n"
          ]
        }
      ],
      "source": [
        "%%script ruby\n",
        "puts \"\\nRecorriendo la lista:\"\n",
        "frutas = [\"Manzana\", \"Banana\", \"Naranja\"]\n",
        "\n",
        "frutas.each do |fruta|\n",
        "  # |fruta| es la variable temporal para cada elemento\n",
        "  puts \"Me gusta la #{fruta}\"\n",
        "end"
      ]
    },
    {
      "cell_type": "markdown",
      "id": "c7d8e9f0a",
      "metadata": {
        "id": "c7d8e9f0a"
      },
      "source": [
        "Iterando sobre Hashes"
      ]
    },
    {
      "cell_type": "code",
      "execution_count": 55,
      "id": "d8e9f0a1b",
      "metadata": {
        "vscode": {
          "languageId": "powershell"
        },
        "colab": {
          "base_uri": "https://localhost:8080/"
        },
        "id": "d8e9f0a1b",
        "outputId": "1f9ec1d7-2b87-4b9c-9438-222bd2ac34fc"
      },
      "outputs": [
        {
          "output_type": "stream",
          "name": "stdout",
          "text": [
            "Fran\n",
            "{:nombre=>\"Fran\", :edad=>21, :es_admin=>true, :ciudad=>\"Valencia\"}\n",
            "\n",
            "Recorriendo el hash de usuario:\n",
            "  - nombre: Fran\n",
            "  - edad: 21\n",
            "  - es_admin: true\n",
            "  - ciudad: Valencia\n"
          ]
        }
      ],
      "source": [
        "%%script ruby\n",
        "usuario = {\n",
        "  nombre: \"Fran\",\n",
        "  edad: 21,\n",
        "  es_admin: true\n",
        "}\n",
        "\n",
        "puts usuario[:nombre] # Imprime: fran\n",
        "\n",
        "# Añadir un nuevo par clave-valor\n",
        "usuario[:ciudad] = \"Valencia\"\n",
        "puts usuario.inspect\n",
        "\n",
        "puts \"\\nRecorriendo el hash de usuario:\"\n",
        "usuario.each do |clave, valor|\n",
        "  puts \"  - #{clave}: #{valor}\"\n",
        "end"
      ]
    },
    {
      "cell_type": "markdown",
      "id": "e9f0a1b2c",
      "metadata": {
        "id": "e9f0a1b2c"
      },
      "source": [
        "##### Bucles Clásicos"
      ]
    },
    {
      "cell_type": "markdown",
      "id": "f0a1b2c3d",
      "metadata": {
        "id": "f0a1b2c3d"
      },
      "source": [
        "Bucle for: Aunque menos común (se prefiere .each), existe. Usa un **Rango**, como (1..3) que incluye 1, 2 y 3."
      ]
    },
    {
      "cell_type": "code",
      "execution_count": 56,
      "id": "a1b2c3d4e5",
      "metadata": {
        "vscode": {
          "languageId": "powershell"
        },
        "colab": {
          "base_uri": "https://localhost:8080/"
        },
        "id": "a1b2c3d4e5",
        "outputId": "d2c139fb-4e19-4e6e-a9a3-40802f6ca549"
      },
      "outputs": [
        {
          "output_type": "stream",
          "name": "stdout",
          "text": [
            "\n",
            "Bucle for:\n",
            "Número 1\n",
            "Número 2\n",
            "Número 3\n"
          ]
        }
      ],
      "source": [
        "%%script ruby\n",
        "puts \"\\nBucle for:\"\n",
        "for i in 1..3 do\n",
        "  puts \"Número #{i}\"\n",
        "end"
      ]
    },
    {
      "cell_type": "markdown",
      "id": "b2c3d4e5f6",
      "metadata": {
        "id": "b2c3d4e5f6"
      },
      "source": [
        "Bucle 'while'"
      ]
    },
    {
      "cell_type": "code",
      "execution_count": 57,
      "id": "c3d4e5f6a7",
      "metadata": {
        "vscode": {
          "languageId": "powershell"
        },
        "colab": {
          "base_uri": "https://localhost:8080/"
        },
        "id": "c3d4e5f6a7",
        "outputId": "a85f3a94-1287-4c11-fb48-d3ad309b6686"
      },
      "outputs": [
        {
          "output_type": "stream",
          "name": "stdout",
          "text": [
            "\n",
            "Bucle while:\n",
            "Tiempo restante: 3\n",
            "Tiempo restante: 2\n",
            "Tiempo restante: 1\n",
            "¡Despegue!\n"
          ]
        }
      ],
      "source": [
        "%%script ruby\n",
        "puts \"\\nBucle while:\"\n",
        "contador = 3\n",
        "while contador > 0 do\n",
        "  puts \"Tiempo restante: #{contador}\"\n",
        "  contador -= 1\n",
        "end\n",
        "puts \"¡Despegue!\""
      ]
    },
    {
      "cell_type": "markdown",
      "id": "d4e5f6a7b8",
      "metadata": {
        "id": "d4e5f6a7b8"
      },
      "source": [
        "## 6. Métodos (Funciones)"
      ]
    },
    {
      "cell_type": "markdown",
      "id": "e5f6a7b8c9",
      "metadata": {
        "id": "e5f6a7b8c9"
      },
      "source": [
        "Los métodos (similares a las funciones) se definen con def. Los paréntesis para los parámetros y al llamar al método son a menudo opcionales."
      ]
    },
    {
      "cell_type": "code",
      "execution_count": 58,
      "id": "f6a7b8c9d0",
      "metadata": {
        "vscode": {
          "languageId": "powershell"
        },
        "colab": {
          "base_uri": "https://localhost:8080/"
        },
        "id": "f6a7b8c9d0",
        "outputId": "0bcc1abf-f47d-4e35-9b2a-94c52d46fde9"
      },
      "outputs": [
        {
          "output_type": "stream",
          "name": "stdout",
          "text": [
            "Hola, Carlos!\n",
            "Hola, Maria!\n"
          ]
        }
      ],
      "source": [
        "%%script ruby\n",
        "def saludar(nombre)\n",
        "  puts \"Hola, #{nombre}!\"\n",
        "end\n",
        "\n",
        "# Se pueden llamar con o sin paréntesis\n",
        "saludar(\"Carlos\")\n",
        "saludar \"Maria\""
      ]
    },
    {
      "cell_type": "markdown",
      "id": "a7b8c9d0e1",
      "metadata": {
        "id": "a7b8c9d0e1"
      },
      "source": [
        "##### Retorno Implícito"
      ]
    },
    {
      "cell_type": "markdown",
      "id": "b8c9d0e1f2",
      "metadata": {
        "id": "b8c9d0e1f2"
      },
      "source": [
        "Ruby utiliza el retorno implícito: el valor de la última expresión ejecutada en un método se devuelve automáticamente. La palabra clave return es opcional."
      ]
    },
    {
      "cell_type": "code",
      "execution_count": 59,
      "id": "c9d0e1f2a3",
      "metadata": {
        "vscode": {
          "languageId": "powershell"
        },
        "colab": {
          "base_uri": "https://localhost:8080/"
        },
        "id": "c9d0e1f2a3",
        "outputId": "92a2585e-9695-40ce-8043-0141d15c4a88"
      },
      "outputs": [
        {
          "output_type": "stream",
          "name": "stdout",
          "text": [
            "El resultado de la suma es: 8\n"
          ]
        }
      ],
      "source": [
        "%%script ruby\n",
        "def sumar(a, b)\n",
        "  a + b\n",
        "end\n",
        "\n",
        "resultado = sumar(5, 3)\n",
        "puts \"El resultado de la suma es: #{resultado}\" # Imprime 8"
      ]
    }
  ],
  "metadata": {
    "kernelspec": {
      "display_name": ".NET (PowerShell)",
      "language": "PowerShell",
      "name": ".net-powershell"
    },
    "language_info": {
      "file_extension": ".ps1",
      "mimetype": "text/x-powershell",
      "name": "PowerShell",
      "pygments_lexer": "powershell",
      "version": "7.5"
    },
    "colab": {
      "provenance": []
    }
  },
  "nbformat": 4,
  "nbformat_minor": 5
}