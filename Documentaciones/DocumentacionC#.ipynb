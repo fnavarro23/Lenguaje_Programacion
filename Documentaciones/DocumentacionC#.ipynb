{
  "cells": [
    {
      "cell_type": "markdown",
      "id": "a0a28853",
      "metadata": {},
      "source": [
        "# DOCUMENTACION C#"
      ]
    },
    {
      "cell_type": "markdown",
      "id": "bab65858",
      "metadata": {},
      "source": [
        "C# es un lenguaje con tipado estático. Es necesario indicar el tipo de dato de una variable (string, int, bool) antes de usarla, y dicho tipo no puede modificarse después."
      ]
    },
    {
      "cell_type": "markdown",
      "id": "9eb187e0",
      "metadata": {},
      "source": [
        "La sentencia 'using System;' se utiliza para incluir el espacio de nombres 'System'.\n",
        "Esto permite usar clases esenciales como 'Console' (para imprimir) y 'Dictionary' (para colecciones)."
      ]
    },
    {
      "cell_type": "code",
      "execution_count": 8,
      "id": "7a4f9ac3",
      "metadata": {
        "vscode": {
          "languageId": "csharp"
        }
      },
      "outputs": [],
      "source": [
        "using System;"
      ]
    },
    {
      "cell_type": "markdown",
      "id": "bbebdfc4",
      "metadata": {},
      "source": [
        "También pueden agregarse colecciones genéricas como Dictionary y HashSet"
      ]
    },
    {
      "cell_type": "code",
      "execution_count": 9,
      "id": "2d3b88f2",
      "metadata": {
        "vscode": {
          "languageId": "csharp"
        }
      },
      "outputs": [],
      "source": [
        "using System.Collections.Generic;"
      ]
    },
    {
      "cell_type": "markdown",
      "id": "e5b47909",
      "metadata": {},
      "source": [
        "Este es el \"Punto de Entrada\" (Entry Point) de la aplicación. Cuando se ejecuta el programa, el código dentro de 'Main' es lo primero que se ejecuta."
      ]
    },
    {
      "cell_type": "markdown",
      "id": "d59a9911",
      "metadata": {},
      "source": [
        "## 1. Salida Básica y Comentarios"
      ]
    },
    {
      "cell_type": "markdown",
      "id": "f960877b",
      "metadata": {},
      "source": [
        "'Console.WriteLine' es el comando para imprimir una línea en la consola."
      ]
    },
    {
      "cell_type": "code",
      "execution_count": 4,
      "id": "cb3ed9e7",
      "metadata": {
        "vscode": {
          "languageId": "csharp"
        }
      },
      "outputs": [
        {
          "name": "stdout",
          "output_type": "stream",
          "text": [
            "Hola, bienvenido al sistema.\n"
          ]
        }
      ],
      "source": [
        "\n",
        "Console.WriteLine($\"Hola, bienvenido al sistema.\"); \n"
      ]
    },
    {
      "cell_type": "markdown",
      "id": "6ddae335",
      "metadata": {},
      "source": [
        "## 2. Variables y Tipos de Datos (Tipado Estático)"
      ]
    },
    {
      "cell_type": "markdown",
      "id": "d85070ec",
      "metadata": {},
      "source": [
        "##### string (Cadena de texto)"
      ]
    },
    {
      "cell_type": "code",
      "execution_count": 7,
      "id": "e8d779e2",
      "metadata": {
        "vscode": {
          "languageId": "csharp"
        }
      },
      "outputs": [
        {
          "name": "stdout",
          "output_type": "stream",
          "text": [
            "Lucía\n",
            "Juan\n"
          ]
        }
      ],
      "source": [
        "string nombre = \"Lucía\";\n",
        "Console.WriteLine(nombre);\n",
        "\n",
        "nombre = \"Juan\"; \n",
        "\n",
        "Console.WriteLine(nombre);"
      ]
    },
    {
      "cell_type": "markdown",
      "id": "3e9ffddc",
      "metadata": {},
      "source": [
        "##### int (Número entero)"
      ]
    },
    {
      "cell_type": "code",
      "execution_count": null,
      "id": "4afc5902",
      "metadata": {
        "vscode": {
          "languageId": "csharp"
        }
      },
      "outputs": [
        {
          "name": "stdout",
          "output_type": "stream",
          "text": [
            "10\n",
            "25\n"
          ]
        }
      ],
      "source": [
        "int numero = 10;\n",
        "Console.WriteLine(numero);\n",
        "\n",
        "numero = 25; \n",
        "\n",
        "Console.WriteLine(numero);"
      ]
    },
    {
      "cell_type": "markdown",
      "id": "ed36bacc",
      "metadata": {},
      "source": [
        "##### double (Número decimal de doble precisión)"
      ]
    },
    {
      "cell_type": "markdown",
      "id": "7a8a4e73",
      "metadata": {},
      "source": [
        "Es el tipo decimal por defecto y más preciso."
      ]
    },
    {
      "cell_type": "code",
      "execution_count": 15,
      "id": "984dcd01",
      "metadata": {
        "vscode": {
          "languageId": "csharp"
        }
      },
      "outputs": [
        {
          "name": "stdout",
          "output_type": "stream",
          "text": [
            "5,99\n"
          ]
        }
      ],
      "source": [
        "double decimalNumber = 5.99;\n",
        "Console.WriteLine(decimalNumber);"
      ]
    },
    {
      "cell_type": "markdown",
      "id": "47d70d85",
      "metadata": {},
      "source": [
        "##### float (Número decimal de precisión simple"
      ]
    },
    {
      "cell_type": "markdown",
      "id": "26dabeff",
      "metadata": {},
      "source": [
        "Es menos preciso que 'double'. Requiere el sufijo 'f'."
      ]
    },
    {
      "cell_type": "code",
      "execution_count": 16,
      "id": "5568e2fd",
      "metadata": {
        "vscode": {
          "languageId": "csharp"
        }
      },
      "outputs": [
        {
          "name": "stdout",
          "output_type": "stream",
          "text": [
            "3,14\n"
          ]
        }
      ],
      "source": [
        "float floatNumber = 3.14f;\n",
        "Console.WriteLine(floatNumber);"
      ]
    },
    {
      "cell_type": "markdown",
      "id": "3c3e6e13",
      "metadata": {},
      "source": [
        "##### bool (Booleano)"
      ]
    },
    {
      "cell_type": "code",
      "execution_count": 17,
      "id": "5e8663ad",
      "metadata": {
        "vscode": {
          "languageId": "csharp"
        }
      },
      "outputs": [
        {
          "name": "stdout",
          "output_type": "stream",
          "text": [
            "True\n"
          ]
        }
      ],
      "source": [
        "bool esVerdadero = true;\n",
        "Console.WriteLine(esVerdadero);"
      ]
    },
    {
      "cell_type": "markdown",
      "id": "da18ee55",
      "metadata": {},
      "source": [
        "##### dynamic (Tipo Dinámico)"
      ]
    },
    {
      "cell_type": "markdown",
      "id": "548faa27",
      "metadata": {},
      "source": [
        "'dynamic' es la EXCEPCIÓN a la regla. El tipo se decide en TIEMPO DE EJECUCIÓN. Es potente pero debe usarse con precaución, debido a que pierde la seguridad del tipado."
      ]
    },
    {
      "cell_type": "code",
      "execution_count": 19,
      "id": "cf0eaa10",
      "metadata": {
        "vscode": {
          "languageId": "csharp"
        }
      },
      "outputs": [
        {
          "name": "stdout",
          "output_type": "stream",
          "text": [
            "Hola Mundo\n",
            "84\n"
          ]
        }
      ],
      "source": [
        "dynamic variableDinamica = \"Hola Mundo\";\n",
        "Console.WriteLine(variableDinamica);\n",
        "\n",
        "variableDinamica = 42; \n",
        "\n",
        "Console.WriteLine(variableDinamica + variableDinamica);"
      ]
    },
    {
      "cell_type": "markdown",
      "id": "a82edf2f",
      "metadata": {},
      "source": [
        "##### var (Inferencia de Tipo)"
      ]
    },
    {
      "cell_type": "markdown",
      "id": "a740d37c",
      "metadata": {},
      "source": [
        "'var' NO es dinámico. Es una \"ayuda\" visual. El compilador \"infiere\" el tipo en el momento de la declaración. Después de eso, el tipo queda FIJO."
      ]
    },
    {
      "cell_type": "code",
      "execution_count": 20,
      "id": "3372591f",
      "metadata": {
        "vscode": {
          "languageId": "csharp"
        }
      },
      "outputs": [
        {
          "name": "stdout",
          "output_type": "stream",
          "text": [
            "Esto es una cadena de texto\n"
          ]
        }
      ],
      "source": [
        "var texto = \"Esto es una cadena de texto\";\n",
        "Console.WriteLine(texto);"
      ]
    },
    {
      "cell_type": "markdown",
      "id": "def079bc",
      "metadata": {},
      "source": [
        "##### Interpolación de Cadenas ($)"
      ]
    },
    {
      "cell_type": "markdown",
      "id": "b846fb9e",
      "metadata": {},
      "source": [
        "Poniendo '$' antes de las comillas, puedes insertar variables, usando llaves {}. Es la forma moderna y preferida."
      ]
    },
    {
      "cell_type": "code",
      "execution_count": 22,
      "id": "3eb64534",
      "metadata": {
        "vscode": {
          "languageId": "csharp"
        }
      },
      "outputs": [
        {
          "name": "stdout",
          "output_type": "stream",
          "text": [
            "El valor de PI es 3,141592653589793\n"
          ]
        }
      ],
      "source": [
        "Console.WriteLine(\"El valor de PI es \" + Math.PI);"
      ]
    },
    {
      "cell_type": "markdown",
      "id": "7f581260",
      "metadata": {},
      "source": [
        "## 3. Constantes"
      ]
    },
    {
      "cell_type": "markdown",
      "id": "c293cf59",
      "metadata": {},
      "source": [
        "'const' declara una constante cuyo valor se asigna en tiempo de compilación y no puede ser modificado NUNCA."
      ]
    },
    {
      "cell_type": "code",
      "execution_count": 24,
      "id": "81bbf931",
      "metadata": {
        "vscode": {
          "languageId": "csharp"
        }
      },
      "outputs": [
        {
          "name": "stdout",
          "output_type": "stream",
          "text": [
            "constante\n"
          ]
        }
      ],
      "source": [
        "const string MyConst = \"constante\";\n",
        "Console.WriteLine(MyConst);"
      ]
    },
    {
      "cell_type": "markdown",
      "id": "1646c71b",
      "metadata": {},
      "source": [
        "## 4. Estructuras de Datos (Colecciones)"
      ]
    },
    {
      "cell_type": "markdown",
      "id": "bc175806",
      "metadata": {},
      "source": [
        "##### Array (Arreglo)"
      ]
    },
    {
      "cell_type": "markdown",
      "id": "b41f1cd7",
      "metadata": {},
      "source": [
        "Un array en C# tiene un tamaño fijo y debe ser de un tipo de dato específico.\n",
        "\n",
        "'var' infiere que es un 'string[]' (un array de strings)."
      ]
    },
    {
      "cell_type": "code",
      "execution_count": 25,
      "id": "5dc19d3f",
      "metadata": {
        "vscode": {
          "languageId": "csharp"
        }
      },
      "outputs": [
        {
          "name": "stdout",
          "output_type": "stream",
          "text": [
            "fran\n",
            "30\n"
          ]
        }
      ],
      "source": [
        "var myArray = new string[] { \"fran\", \"juan\", \"jose\" };\n",
        "            Console.WriteLine(myArray[0]); \n",
        "\n",
        "            myArray[2] = \"30\"; \n",
        "            Console.WriteLine(myArray[2]);"
      ]
    },
    {
      "cell_type": "markdown",
      "id": "47b049d3",
      "metadata": {},
      "source": [
        "##### Dictionary (Diccionario)"
      ]
    },
    {
      "cell_type": "markdown",
      "id": "9747290e",
      "metadata": {},
      "source": [
        "Es el equivalente al array asociativo de PHP.\n",
        "Se usan \"Genéricos\" (<keyType, valueType>) para definir los tipos.\n",
        "Aquí, las claves son 'string' y los valores son 'int'."
      ]
    },
    {
      "cell_type": "code",
      "execution_count": 26,
      "id": "38badab9",
      "metadata": {
        "vscode": {
          "languageId": "csharp"
        }
      },
      "outputs": [
        {
          "name": "stdout",
          "output_type": "stream",
          "text": [
            "21\n"
          ]
        }
      ],
      "source": [
        "var myDictionary = new Dictionary<string, int>\n",
        "{\n",
        "    {\"fran\", 21},\n",
        "    {\"juan\", 18},\n",
        "    {\"jose\", 20}\n",
        "};\n",
        "\n",
        "Console.WriteLine(myDictionary[\"fran\"]);"
      ]
    },
    {
      "cell_type": "markdown",
      "id": "dcc69d6a",
      "metadata": {},
      "source": [
        "##### HashSet (Set o Conjunto)"
      ]
    },
    {
      "cell_type": "markdown",
      "id": "e9b04631",
      "metadata": {},
      "source": [
        "Una colección que NO permite elementos duplicados."
      ]
    },
    {
      "cell_type": "code",
      "execution_count": 27,
      "id": "1ee6f121",
      "metadata": {
        "vscode": {
          "languageId": "csharp"
        }
      },
      "outputs": [],
      "source": [
        "var mySet = new HashSet<string> { \"fran\", \"jose\", \"juan\", \"juan\" };"
      ]
    },
    {
      "cell_type": "markdown",
      "id": "ce844e41",
      "metadata": {},
      "source": [
        "##### Tuple (Tupla)"
      ]
    },
    {
      "cell_type": "markdown",
      "id": "a9e03776",
      "metadata": {},
      "source": [
        "Una forma simple y ligera de agrupar varios valores sin necesidad de crear una clase."
      ]
    },
    {
      "cell_type": "code",
      "execution_count": 28,
      "id": "57fdaeb3",
      "metadata": {
        "vscode": {
          "languageId": "csharp"
        }
      },
      "outputs": [
        {
          "name": "stdout",
          "output_type": "stream",
          "text": [
            "(Manzana, Pera, Cambur)\n"
          ]
        }
      ],
      "source": [
        "var myTuple = (\"Manzana\", \"Pera\", \"Cambur\");\n",
        "Console.WriteLine(myTuple);"
      ]
    },
    {
      "cell_type": "markdown",
      "id": "d3bdea48",
      "metadata": {},
      "source": [
        "## 5. Bucles"
      ]
    },
    {
      "cell_type": "markdown",
      "id": "20b594c4",
      "metadata": {},
      "source": [
        "##### Bucle 'for'"
      ]
    },
    {
      "cell_type": "code",
      "execution_count": 30,
      "id": "e7bd01bb",
      "metadata": {
        "vscode": {
          "languageId": "csharp"
        }
      },
      "outputs": [
        {
          "name": "stdout",
          "output_type": "stream",
          "text": [
            "Bucle For:\n",
            "0\n",
            "1\n",
            "2\n",
            "3\n",
            "4\n",
            "5\n",
            "6\n",
            "7\n"
          ]
        }
      ],
      "source": [
        "Console.WriteLine(\"Bucle For:\");\n",
        "for (int index = 0; index < 8; index++)\n",
        "{\n",
        "    Console.WriteLine(index);\n",
        "}"
      ]
    },
    {
      "cell_type": "markdown",
      "id": "e56fa1ed",
      "metadata": {},
      "source": [
        "##### Bucle 'foreach'"
      ]
    },
    {
      "cell_type": "markdown",
      "id": "30431456",
      "metadata": {},
      "source": [
        "La forma preferida para iterar sobre CUALQUIER colección (Array, List, Set, etc.)"
      ]
    },
    {
      "cell_type": "code",
      "execution_count": 31,
      "id": "233d2a82",
      "metadata": {
        "vscode": {
          "languageId": "csharp"
        }
      },
      "outputs": [
        {
          "name": "stdout",
          "output_type": "stream",
          "text": [
            "Foreach en Array:\n",
            "fran\n",
            "juan\n",
            "30\n"
          ]
        }
      ],
      "source": [
        "Console.WriteLine(\"Foreach en Array:\");\n",
        "foreach (var myItem in myArray)\n",
        "{\n",
        "   Console.WriteLine(myItem);\n",
        "}"
      ]
    },
    {
      "cell_type": "markdown",
      "id": "d0eaeeef",
      "metadata": {},
      "source": [
        "Al iterar un diccionario, 'myItem' es un 'KeyValuePair<string, int>'"
      ]
    },
    {
      "cell_type": "code",
      "execution_count": 32,
      "id": "48fa05b4",
      "metadata": {
        "vscode": {
          "languageId": "csharp"
        }
      },
      "outputs": [
        {
          "name": "stdout",
          "output_type": "stream",
          "text": [
            "Foreach en Dictionary:\n",
            "[fran, 21]\n",
            "[juan, 18]\n",
            "[jose, 20]\n"
          ]
        }
      ],
      "source": [
        "Console.WriteLine(\"Foreach en Dictionary:\");\n",
        "foreach (var myItem in myDictionary)\n",
        "{\n",
        "    Console.WriteLine(myItem);\n",
        "}"
      ]
    },
    {
      "cell_type": "markdown",
      "id": "6d6f4df0",
      "metadata": {},
      "source": [
        "El Set se imprimirá sin el \"juan\" duplicado."
      ]
    },
    {
      "cell_type": "code",
      "execution_count": 33,
      "id": "3afa8aea",
      "metadata": {
        "vscode": {
          "languageId": "csharp"
        }
      },
      "outputs": [
        {
          "name": "stdout",
          "output_type": "stream",
          "text": [
            "Foreach en Set:\n",
            "fran\n",
            "jose\n",
            "juan\n"
          ]
        }
      ],
      "source": [
        "Console.WriteLine(\"Foreach en Set:\");\n",
        "foreach (var myItem in mySet)\n",
        "{\n",
        "    Console.WriteLine(myItem);\n",
        "}"
      ]
    },
    {
      "cell_type": "markdown",
      "id": "b2ccecd2",
      "metadata": {},
      "source": [
        "## 6. Control de Flujo (Condicionales)"
      ]
    },
    {
      "cell_type": "code",
      "execution_count": 35,
      "id": "08198271",
      "metadata": {
        "vscode": {
          "languageId": "csharp"
        }
      },
      "outputs": [
        {
          "name": "stdout",
          "output_type": "stream",
          "text": [
            "El valor es 12 O myBool es false\n"
          ]
        }
      ],
      "source": [
        "int myInt = 11;\n",
        "bool myBool = false;\n",
        "\n",
        "\n",
        "if (myInt == 11 && myBool == true)\n",
        "{\n",
        "    Console.WriteLine(\"El valor es 11 Y myBool es true\");\n",
        "}\n",
        "else if (myInt == 12 || myBool == false)\n",
        "{\n",
        "    Console.WriteLine(\"El valor es 12 O myBool es false\");\n",
        "}\n",
        "else\n",
        "{\n",
        "    Console.WriteLine(\"No se cumplió ninguna condición\");\n",
        "}\n"
      ]
    },
    {
      "cell_type": "markdown",
      "id": "986c2bd2",
      "metadata": {},
      "source": [
        "## 7. Funciones (Métodos)"
      ]
    },
    {
      "cell_type": "markdown",
      "id": "983dd0f1",
      "metadata": {},
      "source": [
        "Llamada a los métodos. Deben ser 'static' para ser llamados desde 'Main' (que también es 'static')."
      ]
    },
    {
      "cell_type": "code",
      "execution_count": 37,
      "id": "fff7a6f4",
      "metadata": {
        "vscode": {
          "languageId": "csharp"
        }
      },
      "outputs": [
        {
          "name": "stdout",
          "output_type": "stream",
          "text": [
            "Hola desde MyFunction\n",
            "15\n"
          ]
        }
      ],
      "source": [
        "static void MyFunction()\n",
        "{\n",
        "    Console.WriteLine(\"Hola desde MyFunction\");\n",
        "}\n",
        "\n",
        "static int MyFunctionWithReturn(int number)\n",
        "{\n",
        "    return number + 10;\n",
        "}\n",
        "\n",
        "MyFunction();\n",
        "Console.WriteLine(MyFunctionWithReturn(5));"
      ]
    }
  ],
  "metadata": {
    "kernelspec": {
      "display_name": ".NET (C#)",
      "language": "C#",
      "name": ".net-csharp"
    },
    "language_info": {
      "file_extension": ".cs",
      "mimetype": "text/x-csharp",
      "name": "C#",
      "pygments_lexer": "csharp",
      "version": "13.0"
    }
  },
  "nbformat": 4,
  "nbformat_minor": 5
}
