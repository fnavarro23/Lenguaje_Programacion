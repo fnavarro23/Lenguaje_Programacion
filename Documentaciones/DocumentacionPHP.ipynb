{
  "cells": [
    {
      "cell_type": "markdown",
      "id": "3e7026b0",
      "metadata": {
        "id": "3e7026b0"
      },
      "source": [
        "# DOCUMENTACION DE PHP"
      ]
    },
    {
      "cell_type": "code",
      "execution_count": 2,
      "id": "99c11d51",
      "metadata": {
        "colab": {
          "base_uri": "https://localhost:8080/"
        },
        "id": "99c11d51",
        "outputId": "a9ec688a-4bf4-4155-f885-861118ddabf9"
      },
      "outputs": [
        {
          "output_type": "stream",
          "name": "stdout",
          "text": [
            "Reading package lists... Done\n",
            "Building dependency tree... Done\n",
            "Reading state information... Done\n",
            "php-cli is already the newest version (2:8.1+92ubuntu1).\n",
            "0 upgraded, 0 newly installed, 0 to remove and 38 not upgraded.\n",
            "PHP 8.1.2-1ubuntu2.22 (cli) (built: Jul 15 2025 12:11:22) (NTS)\n",
            "Copyright (c) The PHP Group\n",
            "Zend Engine v4.1.2, Copyright (c) Zend Technologies\n",
            "    with Zend OPcache v8.1.2-1ubuntu2.22, Copyright (c), by Zend Technologies\n"
          ]
        }
      ],
      "source": [
        "!sudo apt-get install php-cli\n",
        "!php --version"
      ]
    },
    {
      "cell_type": "markdown",
      "id": "598583f7",
      "metadata": {
        "id": "598583f7"
      },
      "source": [
        "## 1. Salida por Pantalla y Comentarios"
      ]
    },
    {
      "cell_type": "markdown",
      "id": "62f71386",
      "metadata": {
        "id": "62f71386"
      },
      "source": [
        "echo se utiliza para mostrar texto en la pantalla. Es una de las construcciones más básicas del lenguaje. print hace algo muy similar.\n",
        "\n",
        "Usamos \"\\n\" para insertar un salto de línea (útil en la consola)."
      ]
    },
    {
      "cell_type": "code",
      "execution_count": 5,
      "id": "e123a6bb",
      "metadata": {
        "colab": {
          "base_uri": "https://localhost:8080/"
        },
        "id": "e123a6bb",
        "outputId": "c69fc1ab-9d11-449c-e7fc-72b3c6a8b288"
      },
      "outputs": [
        {
          "output_type": "stream",
          "name": "stdout",
          "text": [
            "HOLIWIS\n",
            "Este es otro ejemplo de salida.\n"
          ]
        }
      ],
      "source": [
        "%%script php\n",
        "<?php\n",
        "echo \"HOLIWIS\\n\";\n",
        "print \"Este es otro ejemplo de salida.\\n\";\n",
        "?>"
      ]
    },
    {
      "cell_type": "markdown",
      "id": "a73191c1",
      "metadata": {
        "id": "a73191c1"
      },
      "source": [
        "Los comentarios son líneas que PHP ignora. Sirven para dejar notas."
      ]
    },
    {
      "cell_type": "code",
      "execution_count": 7,
      "id": "19f633bd",
      "metadata": {
        "id": "19f633bd"
      },
      "outputs": [],
      "source": [
        "%%script php\n",
        "<?php\n",
        "// Este es un comentario de una sola línea.\n",
        "\n",
        "/*\n",
        "  Este es un comentario\n",
        "  de múltiples líneas.\n",
        "*/\n",
        "?>"
      ]
    },
    {
      "cell_type": "markdown",
      "id": "fbbacf20",
      "metadata": {
        "id": "fbbacf20"
      },
      "source": [
        "## 2. Variables y Tipos de Datos"
      ]
    },
    {
      "cell_type": "markdown",
      "id": "c8e9b89f",
      "metadata": {
        "id": "c8e9b89f"
      },
      "source": [
        "Las variables en PHP siempre empiezan con el símbolo $.\n",
        "\n",
        "No es necesario declarar el tipo de dato; PHP lo infiere (esto se llama tipado dinámico)."
      ]
    },
    {
      "cell_type": "markdown",
      "id": "b1473126",
      "metadata": {
        "id": "b1473126"
      },
      "source": [
        "##### String (Cadena de texto)"
      ]
    },
    {
      "cell_type": "code",
      "execution_count": 8,
      "id": "1b5717ec",
      "metadata": {
        "colab": {
          "base_uri": "https://localhost:8080/"
        },
        "id": "1b5717ec",
        "outputId": "2e4c7369-2e23-4f4e-d396-5be47e340c47"
      },
      "outputs": [
        {
          "output_type": "stream",
          "name": "stdout",
          "text": [
            "Hola, mundo\n",
            "string\n"
          ]
        }
      ],
      "source": [
        "%%script php\n",
        "<?php\n",
        "$saludo = \"Hola, mundo\";\n",
        "echo $saludo . \"\\n\"; // El '.' se usa para concatenar (unir) cadenas.\n",
        "\n",
        "// gettype() nos dice qué tipo de dato tiene una variable\n",
        "echo gettype($saludo) . \"\\n\"; // Imprimirá: string\n",
        "?>"
      ]
    },
    {
      "cell_type": "markdown",
      "id": "96f02e76",
      "metadata": {
        "id": "96f02e76"
      },
      "source": [
        "##### Tipado Dinámico en Acción"
      ]
    },
    {
      "cell_type": "markdown",
      "id": "df330b6f",
      "metadata": {
        "id": "df330b6f"
      },
      "source": [
        "La misma variable puede cambiar de tipo si le asignamos un valor diferente."
      ]
    },
    {
      "cell_type": "code",
      "execution_count": 9,
      "id": "4850bd0e",
      "metadata": {
        "colab": {
          "base_uri": "https://localhost:8080/"
        },
        "id": "4850bd0e",
        "outputId": "a10daf6f-a83b-4c84-bfd4-1321ae07a55a"
      },
      "outputs": [
        {
          "output_type": "stream",
          "name": "stdout",
          "text": [
            "string\n",
            "integer\n"
          ]
        }
      ],
      "source": [
        "%%script php\n",
        "<?php\n",
        "$mi_variable = \"Un texto\";\n",
        "echo gettype($mi_variable) . \"\\n\"; // string\n",
        "\n",
        "$mi_variable = 100;\n",
        "echo gettype($mi_variable) . \"\\n\"; // integer\n",
        "?>"
      ]
    },
    {
      "cell_type": "markdown",
      "id": "68ac31f6",
      "metadata": {
        "id": "68ac31f6"
      },
      "source": [
        "##### Integer (Entero)"
      ]
    },
    {
      "cell_type": "code",
      "execution_count": 10,
      "id": "f665a31f",
      "metadata": {
        "colab": {
          "base_uri": "https://localhost:8080/"
        },
        "id": "f665a31f",
        "outputId": "2e7d3055-b75f-486b-8b56-0f5f25c3bfdf"
      },
      "outputs": [
        {
          "output_type": "stream",
          "name": "stdout",
          "text": [
            "22\n",
            "integer\n"
          ]
        }
      ],
      "source": [
        "%%script php\n",
        "<?php\n",
        "$edad = 21;\n",
        "$edad = $edad + 1; // Ahora $edad vale 22\n",
        "echo $edad . \"\\n\";\n",
        "echo gettype($edad) . \"\\n\"; // Imprimirá: integer\n",
        "?>"
      ]
    },
    {
      "cell_type": "markdown",
      "id": "ebe82c46",
      "metadata": {
        "id": "ebe82c46"
      },
      "source": [
        "##### Float (Decimal)"
      ]
    },
    {
      "cell_type": "code",
      "execution_count": 11,
      "id": "1c995148",
      "metadata": {
        "colab": {
          "base_uri": "https://localhost:8080/"
        },
        "id": "1c995148",
        "outputId": "71fcce4a-625f-4b1b-a45e-466c6760b151"
      },
      "outputs": [
        {
          "output_type": "stream",
          "name": "stdout",
          "text": [
            "9.95\n",
            "double\n"
          ]
        }
      ],
      "source": [
        "%%script php\n",
        "<?php\n",
        "$precio = 9.95;\n",
        "echo $precio . \"\\n\";\n",
        "echo gettype($precio) . \"\\n\"; // Imprimirá: double (o float)\n",
        "?>"
      ]
    },
    {
      "cell_type": "markdown",
      "id": "aa24c9dc",
      "metadata": {
        "id": "aa24c9dc"
      },
      "source": [
        "##### Boolean (Booleano)"
      ]
    },
    {
      "cell_type": "code",
      "execution_count": 12,
      "id": "2ab7d9e8",
      "metadata": {
        "colab": {
          "base_uri": "https://localhost:8080/"
        },
        "id": "2ab7d9e8",
        "outputId": "f4e322f9-5e1b-4a61-a868-007defd5fe98"
      },
      "outputs": [
        {
          "output_type": "stream",
          "name": "stdout",
          "text": [
            "Es válido: 1\n",
            "Es válido: \n",
            "boolean\n"
          ]
        }
      ],
      "source": [
        "%%script php\n",
        "<?php\n",
        "$es_valido = true;\n",
        "echo \"Es válido: \" . $es_valido . \"\\n\";\n",
        "$es_valido = false;\n",
        "echo \"Es válido: \" . $es_valido . \"\\n\";\n",
        "echo gettype($es_valido) . \"\\n\";\n",
        "?>"
      ]
    },
    {
      "cell_type": "markdown",
      "id": "807a5586",
      "metadata": {
        "id": "807a5586"
      },
      "source": [
        "##### Interpolación de variables"
      ]
    },
    {
      "cell_type": "code",
      "execution_count": 13,
      "id": "8abc88de",
      "metadata": {
        "colab": {
          "base_uri": "https://localhost:8080/"
        },
        "id": "8abc88de",
        "outputId": "22a95377-d704-4904-8c7c-f5578a3c19f1"
      },
      "outputs": [
        {
          "output_type": "stream",
          "name": "stdout",
          "text": [
            "La clienta Ana gastó 50 dólares.\n"
          ]
        }
      ],
      "source": [
        "%%script php\n",
        "<?php\n",
        "$nombre = \"Ana\";\n",
        "$total_compra = 50;\n",
        "echo \"La clienta $nombre gastó $total_compra dólares.\\n\";\n",
        "?>"
      ]
    },
    {
      "cell_type": "markdown",
      "id": "d9c87c2f",
      "metadata": {
        "id": "d9c87c2f"
      },
      "source": [
        "## 3. Constantes"
      ]
    },
    {
      "cell_type": "markdown",
      "id": "16d76cea",
      "metadata": {
        "id": "16d76cea"
      },
      "source": [
        "*Las constantes guardan un valor que no se puede alterar mientras se ejecuta el script.\n",
        "\n",
        "*Por norma, sus nombres se escriben en letras MAYÚSCULAS.\n",
        "\n",
        "*No emplean el símbolo '$'."
      ]
    },
    {
      "cell_type": "code",
      "execution_count": 14,
      "id": "bab10f97",
      "metadata": {
        "colab": {
          "base_uri": "https://localhost:8080/"
        },
        "id": "bab10f97",
        "outputId": "39bf4092-e465-4586-dbbd-d3bbedf84b02"
      },
      "outputs": [
        {
          "output_type": "stream",
          "name": "stdout",
          "text": [
            "La versión de la app es: 1.0.2\n"
          ]
        }
      ],
      "source": [
        "%%script php\n",
        "<?php\n",
        "const VERSION_APP = \"1.0.2\";\n",
        "echo \"La versión de la app es: \" . VERSION_APP . \"\\n\";\n",
        "?>"
      ]
    },
    {
      "cell_type": "markdown",
      "id": "2b2ce2c3",
      "metadata": {
        "id": "2b2ce2c3"
      },
      "source": [
        "## 4. Arrays"
      ]
    },
    {
      "cell_type": "markdown",
      "id": "d1cbac53",
      "metadata": {
        "id": "d1cbac53"
      },
      "source": [
        "Arrays (Listas indexadas)\n",
        "- En PHP, el tipo 'array' se usa tanto para listas (índices numéricos) como para diccionarios (índices asociativos/claves).\n",
        "- Pueden mezclar diferentes tipos de datos."
      ]
    },
    {
      "cell_type": "code",
      "execution_count": 15,
      "id": "b7528905",
      "metadata": {
        "colab": {
          "base_uri": "https://localhost:8080/"
        },
        "id": "b7528905",
        "outputId": "d21defb2-a64a-49b0-9050-73883eee92da"
      },
      "outputs": [
        {
          "output_type": "stream",
          "name": "stdout",
          "text": [
            "Array\n",
            "(\n",
            "    [0] => Manzana\n",
            "    [1] => Naranja\n",
            "    [2] => Pera\n",
            "    [3] => Uva\n",
            ")\n"
          ]
        }
      ],
      "source": [
        "%%script php\n",
        "<?php\n",
        "$frutas = [\"Manzana\", \"Naranja\", \"Pera\"];\n",
        "array_push($frutas, \"Uva\");\n",
        "print_r($frutas);\n",
        "?>"
      ]
    },
    {
      "cell_type": "code",
      "execution_count": 16,
      "id": "04d22d19",
      "metadata": {
        "colab": {
          "base_uri": "https://localhost:8080/"
        },
        "id": "04d22d19",
        "outputId": "cc3cdccb-37cb-4bb2-8e62-ebc791defe9a"
      },
      "outputs": [
        {
          "output_type": "stream",
          "name": "stdout",
          "text": [
            "Array\n",
            "(\n",
            "    [idioma] => es\n",
            "    [tema] => oscuro\n",
            "    [notificaciones] => 1\n",
            ")\n"
          ]
        }
      ],
      "source": [
        "%%script php\n",
        "<?php\n",
        "$configuracion = [\n",
        "    \"idioma\" => \"es\",\n",
        "    \"tema\" => \"oscuro\",\n",
        "    \"notificaciones\" => true\n",
        "];\n",
        "print_r($configuracion);\n",
        "?>"
      ]
    },
    {
      "cell_type": "markdown",
      "id": "df71d58c",
      "metadata": {
        "id": "df71d58c"
      },
      "source": [
        "## 5. Bucles"
      ]
    },
    {
      "cell_type": "markdown",
      "id": "13b94ede",
      "metadata": {
        "id": "13b94ede"
      },
      "source": [
        "Se usa cuando sabes cuántas veces quieres repetir un bloque.\n",
        "(inicialización; condición; incremento)"
      ]
    },
    {
      "cell_type": "code",
      "execution_count": 17,
      "id": "c002df6f",
      "metadata": {
        "colab": {
          "base_uri": "https://localhost:8080/"
        },
        "id": "c002df6f",
        "outputId": "55b983ae-5cda-44e1-8086-77772a94af86"
      },
      "outputs": [
        {
          "output_type": "stream",
          "name": "stdout",
          "text": [
            "1\n",
            "2\n",
            "3\n",
            "4\n",
            "5\n"
          ]
        }
      ],
      "source": [
        "%%script php\n",
        "<?php\n",
        "for ($i = 1; $i <= 5; $i++) {\n",
        "    echo $i . \"\\n\";\n",
        "}\n",
        "?>"
      ]
    },
    {
      "cell_type": "markdown",
      "id": "43f6235c",
      "metadata": {
        "id": "43f6235c"
      },
      "source": [
        "La forma más sencilla y recomendada de iterar sobre un array."
      ]
    },
    {
      "cell_type": "code",
      "execution_count": 18,
      "id": "c537f0f7",
      "metadata": {
        "colab": {
          "base_uri": "https://localhost:8080/"
        },
        "id": "c537f0f7",
        "outputId": "079b91ea-7dec-49d7-c031-88b854abf0c5"
      },
      "outputs": [
        {
          "output_type": "stream",
          "name": "stdout",
          "text": [
            "Rojo\n",
            "Verde\n",
            "Azul\n"
          ]
        }
      ],
      "source": [
        "%%script php\n",
        "<?php\n",
        "$colores = [\"Rojo\", \"Verde\", \"Azul\"];\n",
        "foreach ($colores as $color) {\n",
        "    echo $color . \"\\n\";\n",
        "}\n",
        "?>"
      ]
    },
    {
      "cell_type": "markdown",
      "id": "ac584a10",
      "metadata": {
        "id": "ac584a10"
      },
      "source": [
        "Repite un bloque de código cuando la condición sea verdadera."
      ]
    },
    {
      "cell_type": "code",
      "execution_count": 20,
      "id": "287a0f4d",
      "metadata": {
        "colab": {
          "base_uri": "https://localhost:8080/"
        },
        "id": "287a0f4d",
        "outputId": "75afcc89-e731-4b67-a4ee-3207783bb922"
      },
      "outputs": [
        {
          "output_type": "stream",
          "name": "stdout",
          "text": [
            "Contador: 0\n",
            "Contador: 1\n",
            "Contador: 2\n"
          ]
        }
      ],
      "source": [
        "%%script php\n",
        "<?php\n",
        "$contador = 0;\n",
        "while ($contador < 3) {\n",
        "    echo \"Contador: $contador\\n\";\n",
        "    $contador++;\n",
        "}\n",
        "?>"
      ]
    },
    {
      "cell_type": "markdown",
      "id": "f3a00cab",
      "metadata": {
        "id": "f3a00cab"
      },
      "source": [
        "## 6. Condicionales"
      ]
    },
    {
      "cell_type": "code",
      "execution_count": 21,
      "id": "412f8266",
      "metadata": {
        "colab": {
          "base_uri": "https://localhost:8080/"
        },
        "id": "412f8266",
        "outputId": "0d12fbed-1471-44a2-914a-f5ad2de5a601"
      },
      "outputs": [
        {
          "output_type": "stream",
          "name": "stdout",
          "text": [
            "El clima es agradable.\n"
          ]
        }
      ],
      "source": [
        "%%script php\n",
        "<?php\n",
        "$temperatura = 22;\n",
        "if ($temperatura > 25) {\n",
        "    echo \"Hace calor.\\n\";\n",
        "} elseif ($temperatura < 10) {\n",
        "    echo \"Hace frío.\\n\";\n",
        "} else {\n",
        "    echo \"El clima es agradable.\\n\";\n",
        "}\n",
        "?>"
      ]
    },
    {
      "cell_type": "markdown",
      "id": "6239a14f",
      "metadata": {
        "id": "6239a14f"
      },
      "source": [
        "## 7. Funciones"
      ]
    },
    {
      "cell_type": "markdown",
      "id": "73a564d2",
      "metadata": {
        "id": "73a564d2"
      },
      "source": [
        "Las funciones en PHP se definen con function nombre($params) { ... } para encapsular y reutilizar código. Pueden recibir parámetros (con tipado y valores por defecto), devolver un valor con return y usan variables locales a menos que se declaren como global."
      ]
    },
    {
      "cell_type": "code",
      "execution_count": 22,
      "id": "89b87b70",
      "metadata": {
        "colab": {
          "base_uri": "https://localhost:8080/"
        },
        "id": "89b87b70",
        "outputId": "cbe3b9e1-aa85-47a9-e27e-040409158011"
      },
      "outputs": [
        {
          "output_type": "stream",
          "name": "stdout",
          "text": [
            "Hola, Francisco!\n",
            "8"
          ]
        }
      ],
      "source": [
        "%%script php\n",
        "<?php\n",
        "function saludar(string $nombre) {\n",
        "    echo \"Hola, $nombre!\\n\";\n",
        "}\n",
        "saludar(\"Francisco\");\n",
        "\n",
        "function sumar(int $a, int $b): int {\n",
        "    return $a + $b;\n",
        "}\n",
        "echo sumar(5,3);\n",
        "?>"
      ]
    },
    {
      "cell_type": "code",
      "source": [],
      "metadata": {
        "id": "_b8ZEJr4GCeQ"
      },
      "id": "_b8ZEJr4GCeQ",
      "execution_count": null,
      "outputs": []
    }
  ],
  "metadata": {
    "kernelspec": {
      "display_name": "base",
      "language": "python",
      "name": "python3"
    },
    "language_info": {
      "codemirror_mode": {
        "name": "ipython",
        "version": 3
      },
      "file_extension": ".py",
      "mimetype": "text/x-python",
      "name": "python",
      "nbconvert_exporter": "python",
      "pygments_lexer": "ipython3",
      "version": "3.13.5"
    },
    "colab": {
      "provenance": []
    }
  },
  "nbformat": 4,
  "nbformat_minor": 5
}